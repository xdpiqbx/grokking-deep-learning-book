{
 "cells": [
  {
   "cell_type": "markdown",
   "metadata": {},
   "source": [
    "# Градиентный спуск"
   ]
  },
  {
   "cell_type": "markdown",
   "metadata": {},
   "source": [
    "Сравнение позволяет оценить, насколько прогноз промахнулся"
   ]
  },
  {
   "cell_type": "markdown",
   "metadata": {},
   "source": [
    "Обучение определяет, как изменить каждй вес, чтобы уменьшить ошибку\n",
    "- определения причин ошибок\n",
    "- выяснение вклада каждого веса в общую ошибку"
   ]
  },
  {
   "cell_type": "markdown",
   "metadata": {},
   "source": [
    "**Градиентный спуск** позволяет вычислить для каждого веса некоторое число, определяющее, насколько этот вес должен быть выше или ниже, чтобы уменьшить ошибку."
   ]
  },
  {
   "cell_type": "code",
   "execution_count": 1,
   "metadata": {},
   "outputs": [
    {
     "name": "stdout",
     "output_type": "stream",
     "text": [
      "0.30250000000000005\n"
     ]
    }
   ],
   "source": [
    "knob_weight = 0.5\n",
    "input = 0.5\n",
    "goal_pred = 0.8  # число полученое в реальном мире\n",
    "\n",
    "pred = input * knob_weight\n",
    "error = (pred - goal_pred) ** 2\n",
    "#  1. делаем число положительным\n",
    "#  2. приуменьшаем маленькие ошибки и приувеличиваем большие\n",
    "print(error)"
   ]
  },
  {
   "cell_type": "markdown",
   "metadata": {},
   "source": [
    "Пытаемся уменьшить среднюю ошибку до нуля."
   ]
  },
  {
   "cell_type": "markdown",
   "metadata": {},
   "source": [
    "Почему нужно возводить в степень `(pred - goal_pred) ** 2`\n",
    "- цель - уменьшить среднюю ошибку до нуля\n",
    "- если `(pred - goal_pred)` может быть `1000` в первом случае и `-1000` во втором случае, а в среднем `0`"
   ]
  },
  {
   "cell_type": "markdown",
   "metadata": {},
   "source": [
    "## Простейшая форма нейронного обучения. \"Холодно/Горячо\""
   ]
  },
  {
   "cell_type": "code",
   "execution_count": 7,
   "metadata": {},
   "outputs": [
    {
     "name": "stdout",
     "output_type": "stream",
     "text": [
      "0.022499999999999975\n"
     ]
    }
   ],
   "source": [
    "# 1) An Empty Network\n",
    "\n",
    "weight = 0.1\n",
    "lr = 0.01\n",
    "\n",
    "def neural_network(input, weight):\n",
    "    prediction = input * weight\n",
    "    return prediction\n",
    "\n",
    "# 2) PREDICT: Making A Prediction And Evaluating Error\n",
    "\n",
    "number_of_toes = [8.5]\n",
    "win_or_lose_binary = [1]  # (won!!!)\n",
    "\n",
    "input = number_of_toes[0]\n",
    "true = win_or_lose_binary[0]\n",
    "\n",
    "pred = neural_network(input, weight)\n",
    "error = (pred - true) ** 2\n",
    "print(error)"
   ]
  },
  {
   "cell_type": "code",
   "execution_count": 6,
   "metadata": {},
   "outputs": [
    {
     "name": "stdout",
     "output_type": "stream",
     "text": [
      "0.004224999999999993\n"
     ]
    }
   ],
   "source": [
    "# 3) COMPARE: Making A Prediction With a *Higher* Weight And Evaluating Error\n",
    "\n",
    "weight = 0.1\n",
    "\n",
    "def neural_network(input, weight):\n",
    "    prediction = input * weight\n",
    "    return prediction\n",
    "\n",
    "number_of_toes = [8.5]\n",
    "win_or_lose_binary = [1]  # (won!!!)\n",
    "\n",
    "input = number_of_toes[0]\n",
    "true = win_or_lose_binary[0]\n",
    "\n",
    "lr = 0.01\n",
    "p_up = neural_network(input, weight + lr)\n",
    "e_up = (p_up - true) ** 2\n",
    "print(e_up)"
   ]
  },
  {
   "cell_type": "code",
   "execution_count": null,
   "metadata": {},
   "outputs": [],
   "source": [
    "# 4) COMPARE: Making A Prediction With a *Lower* Weight And Evaluating Error\n",
    "\n",
    "weight = 0.1\n",
    "\n",
    "def neural_network(input, weight):\n",
    "    prediction = input * weight\n",
    "    return prediction\n",
    "\n",
    "number_of_toes = [8.5]\n",
    "win_or_lose_binary = [1]  # (won!!!)\n",
    "\n",
    "input = number_of_toes[0]\n",
    "true = win_or_lose_binary[0]\n",
    "\n",
    "lr = 0.01\n",
    "p_dn = neural_network(input, weight - lr)\n",
    "e_dn = (p_dn - true) ** 2\n",
    "print(e_dn)"
   ]
  },
  {
   "cell_type": "markdown",
   "metadata": {},
   "source": [
    "# Page 76"
   ]
  }
 ],
 "metadata": {
  "kernelspec": {
   "display_name": "Python 3",
   "language": "python",
   "name": "python3"
  },
  "language_info": {
   "codemirror_mode": {
    "name": "ipython",
    "version": 3
   },
   "file_extension": ".py",
   "mimetype": "text/x-python",
   "name": "python",
   "nbconvert_exporter": "python",
   "pygments_lexer": "ipython3",
   "version": "3.11.4"
  }
 },
 "nbformat": 4,
 "nbformat_minor": 2
}
