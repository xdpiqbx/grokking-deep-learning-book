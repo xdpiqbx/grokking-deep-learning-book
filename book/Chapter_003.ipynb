{
 "cells": [
  {
   "cell_type": "code",
   "execution_count": 1,
   "metadata": {},
   "outputs": [
    {
     "name": "stdout",
     "output_type": "stream",
     "text": [
      "0.8500000000000001\n"
     ]
    }
   ],
   "source": [
    "# The network:\n",
    "weight = 0.1\n",
    "\n",
    "def neural_network(input, weight):\n",
    "    prediction = input * weight\n",
    "    return prediction\n",
    "\n",
    "# How we use the network to predict something:\n",
    "\n",
    "number_of_toes = [8.5, 9.5, 10, 9]\n",
    "input = number_of_toes[0]\n",
    "pred = neural_network(input, weight)\n",
    "print(pred)"
   ]
  },
  {
   "cell_type": "markdown",
   "metadata": {},
   "source": [
    "### Прогнозирование с несколькими входами"
   ]
  },
  {
   "cell_type": "code",
   "execution_count": 1,
   "metadata": {},
   "outputs": [
    {
     "name": "stdout",
     "output_type": "stream",
     "text": [
      "0.9800000000000001\n"
     ]
    }
   ],
   "source": [
    "def w_sum(input, weights):\n",
    "    assert (len(input) == len(weights))\n",
    "    output = 0\n",
    "    for i in range(len(input)):\n",
    "        output += (input[i] * weights[i])\n",
    "    return output\n",
    "\n",
    "def neural_network(input, weights):\n",
    "    pred = w_sum(input, weights)\n",
    "    return pred\n",
    "\n",
    "# This dataset is the current\n",
    "# status at the beginning of\n",
    "# each game for the first 4 games\n",
    "# in a season.\n",
    "\n",
    "weights = [0.1, 0.2, 0]  \n",
    "# 0.1 for toes\n",
    "# 0.2 for wlrec\n",
    "# 0 for nfans\n",
    "\n",
    "# toes = average count of games\n",
    "# wlrec = current games won (percent)\n",
    "# nfans = fan count (in millions)\n",
    "\n",
    "toes = [8.5, 9.5, 9.9, 9.0]\n",
    "wlrec = [0.65, 0.8, 0.8, 0.9]\n",
    "nfans = [1.2, 1.3, 0.5, 1.0]\n",
    "\n",
    "# Input corresponds to every entry\n",
    "# for the first game of the season.\n",
    "\n",
    "inputs = [toes[0], wlrec[0], nfans[0]]\n",
    "pred = neural_network(inputs, weights)\n",
    "\n",
    "print(pred)"
   ]
  },
  {
   "cell_type": "markdown",
   "metadata": {},
   "source": [
    "### NumPy Code"
   ]
  },
  {
   "cell_type": "code",
   "execution_count": 2,
   "metadata": {},
   "outputs": [
    {
     "name": "stdout",
     "output_type": "stream",
     "text": [
      "0.9800000000000001\n"
     ]
    }
   ],
   "source": [
    "import numpy as np\n",
    "\n",
    "# .dot - dot product (скалярное произведение)\n",
    "# .dot зи NumPy заменяет w_sum из кода выше\n",
    "\n",
    "def neural_network(input, weights):\n",
    "    pred = input.dot(weights)\n",
    "    return pred\n",
    "\n",
    "weights = np.array([0.1, 0.2, 0])\n",
    "\n",
    "toes = np.array([8.5, 9.5, 9.9, 9.0])\n",
    "wlrec = np.array([0.65, 0.8, 0.8, 0.9])\n",
    "nfans = np.array([1.2, 1.3, 0.5, 1.0])\n",
    "\n",
    "# Input corresponds to every entry\n",
    "# for the first game of the season.\n",
    "\n",
    "input = np.array([toes[0], wlrec[0], nfans[0]])\n",
    "pred = neural_network(input, weights)\n",
    "\n",
    "print(pred)"
   ]
  },
  {
   "cell_type": "markdown",
   "metadata": {},
   "source": [
    "### Прогнозирование с несколькими выходами"
   ]
  },
  {
   "cell_type": "code",
   "execution_count": 3,
   "metadata": {},
   "outputs": [
    {
     "name": "stdout",
     "output_type": "stream",
     "text": [
      "[0.195, 0.13, 0.5850000000000001]\n"
     ]
    }
   ],
   "source": [
    "# Instead of predicting just\n",
    "# whether the team won or lost,\n",
    "# now we're also predicting whether\n",
    "# they are happy/sad AND the percentage\n",
    "# of the team that is hurt. We are\n",
    "# making this prediction using only\n",
    "# the current win/loss record.\n",
    "\n",
    "def ele_mul(number, vector):\n",
    "    output = [0, 0, 0]\n",
    "    assert (len(output) == len(vector))\n",
    "    for i in range(len(vector)):\n",
    "        output[i] = number * vector[i]\n",
    "    return output\n",
    "\n",
    "def neural_network(input, weights):\n",
    "    pred = ele_mul(input, weights)\n",
    "    return pred\n",
    "\n",
    "weights = [0.3, 0.2, 0.9] #  [hurt, win, happy]\n",
    "\n",
    "wlrec = [0.65, 0.8, 0.8, 0.9]\n",
    "# wlrec = current games won (percent)\n",
    "\n",
    "pred = neural_network(wlrec[0], weights)\n",
    "\n",
    "print(pred)"
   ]
  },
  {
   "cell_type": "markdown",
   "metadata": {},
   "source": [
    "### Прогнозироваие с несколькими входами и выходами"
   ]
  },
  {
   "cell_type": "code",
   "execution_count": 10,
   "metadata": {},
   "outputs": [
    {
     "name": "stdout",
     "output_type": "stream",
     "text": [
      "[0.555, 0.9800000000000001, 0.9650000000000001]\n"
     ]
    }
   ],
   "source": [
    "def w_sum(vector, matrix):\n",
    "    assert (len(vector) == len(matrix))\n",
    "    output = 0\n",
    "    for i in range(len(vector)):\n",
    "        output += (vector[i] * matrix[i])\n",
    "    return output\n",
    "\n",
    "def vect_mat_mul(input_vector, weights_matrix):\n",
    "    assert (len(input_vector) == len(weights_matrix))\n",
    "    output = [0, 0, 0]\n",
    "    for i in range(len(input_vector)):\n",
    "        output[i] = w_sum(input_vector, weights_matrix[i])\n",
    "    return output\n",
    "\n",
    "def neural_network(input, weights):\n",
    "    pred = vect_mat_mul(input, weights)\n",
    "    return pred\n",
    "\n",
    "hurt = [0.1, 0.1, -0.3]\n",
    "win = [0.1, 0.2, 0.0]\n",
    "sad = [0.0, 1.3, 0.1]\n",
    "\n",
    "weights = [hurt, win, sad]\n",
    "\n",
    "# This dataset is the current\n",
    "# status at the beginning of\n",
    "# each game for the first 4 games\n",
    "# in a season\n",
    "\n",
    "# toes = current number of toes (среднее число игр, сыграных игроками)\n",
    "toes = [8.5, 9.5, 9.9, 9.0]\n",
    "# wlrec = current games won (percent)\n",
    "wlrec = [0.65, 0.8, 0.8, 0.9]\n",
    "# nfans = fan count (in millions)\n",
    "nfans = [1.2, 1.3, 0.5, 1.0]\n",
    "\n",
    "# Input corresponds to every entry\n",
    "# for the first game of the season.\n",
    "\n",
    "input = [toes[0], wlrec[0], nfans[0]]\n",
    "pred = neural_network(input, weights)\n",
    "\n",
    "#   toes          %win           #fans\n",
    "#  (8.5 * 0.1) + (0.65 * 0.1) + (1.2 * -0.3) = 0.555 # hurt?\n",
    "#  (8.5 * 0.1) + (0.65 * 0.2) + (1.2 * 0.0) = 0.98   # win?\n",
    "#  (8.5 * 0.0) + (0.65 * 1.3) + (1.2 * 0.1) = 0.965  # sad?\n",
    "\n",
    "print(pred)"
   ]
  },
  {
   "cell_type": "markdown",
   "metadata": {},
   "source": [
    "### Прогнозирование на основе прогнозов"
   ]
  },
  {
   "cell_type": "code",
   "execution_count": 12,
   "metadata": {},
   "outputs": [
    {
     "name": "stdout",
     "output_type": "stream",
     "text": [
      "[0.21350000000000002, 0.14500000000000002, 0.5065]\n"
     ]
    }
   ],
   "source": [
    "         # toes %win #fans\n",
    "ih_wgt = [[0.1, 0.2, -0.1],  # hid[0]\n",
    "          [-0.1, 0.1, 0.9],  # hid[1]\n",
    "          [0.1, 0.4, 0.1]]   # hid[2]\n",
    "\n",
    "#       hid[0] hid[1] hid[2]\n",
    "hp_wgt = [[0.3, 1.1, -0.3], # hurt?\n",
    "          [0.1, 0.2, 0.0],  # win?\n",
    "          [0.0, 1.3, 0.1]]  # sad?\n",
    "\n",
    "weights = [ih_wgt, hp_wgt]\n",
    "\n",
    "def neural_network(input, weights):\n",
    "    hid = vect_mat_mul(input, weights[0]) # hidden layer\n",
    "    pred = vect_mat_mul(hid, weights[1])\n",
    "    return pred\n",
    "\n",
    "toes = [8.5, 9.5, 9.9, 9.0]\n",
    "wlrec = [0.65, 0.8, 0.8, 0.9]\n",
    "nfans = [1.2, 1.3, 0.5, 1.0]\n",
    "\n",
    "# Input corresponds to every entry\n",
    "# for the first game of the season.\n",
    "\n",
    "input = [toes[0], wlrec[0], nfans[0]]\n",
    "pred = neural_network(input, weights)\n",
    "\n",
    "print(pred)"
   ]
  },
  {
   "cell_type": "markdown",
   "metadata": {},
   "source": [
    "### Версия с NumPy"
   ]
  },
  {
   "cell_type": "code",
   "execution_count": 17,
   "metadata": {},
   "outputs": [
    {
     "name": "stdout",
     "output_type": "stream",
     "text": [
      "[0.2135 0.145  0.5065]\n"
     ]
    }
   ],
   "source": [
    "import numpy as np\n",
    "\n",
    "# toes %win #fans\n",
    "ih_wgt = np.array([\n",
    "    [0.1, 0.2, -0.1],  # hid[0]\n",
    "    [-0.1, 0.1, 0.9],  # hid[1]\n",
    "    [0.1, 0.4, 0.1]]).T  # hid[2]\n",
    "\n",
    "\n",
    "# hid[0] hid[1] hid[2]\n",
    "hp_wgt = np.array([\n",
    "    [0.3, 1.1, -0.3],  # hurt?\n",
    "    [0.1, 0.2, 0.0],  # win?\n",
    "    [0.0, 1.3, 0.1]]).T  # sad?\n",
    "\n",
    "weights = [ih_wgt, hp_wgt]\n",
    "\n",
    "def neural_network(input, weights):\n",
    "    hid = input.dot(weights[0])\n",
    "    pred = hid.dot(weights[1])\n",
    "    return pred\n",
    "\n",
    "toes = np.array([8.5, 9.5, 9.9, 9.0])\n",
    "wlrec = np.array([0.65, 0.8, 0.8, 0.9])\n",
    "nfans = np.array([1.2, 1.3, 0.5, 1.0])\n",
    "\n",
    "input = np.array([toes[0], wlrec[0], nfans[0]])\n",
    "\n",
    "pred = neural_network(input, weights)\n",
    "print(pred)"
   ]
  },
  {
   "cell_type": "markdown",
   "metadata": {},
   "source": [
    "### Короткий пример NumPy"
   ]
  },
  {
   "cell_type": "code",
   "execution_count": 21,
   "metadata": {},
   "outputs": [
    {
     "name": "stdout",
     "output_type": "stream",
     "text": [
      "[0 1 2 3]\n",
      "[4 5 6 7]\n",
      "[[0 1 2 3]\n",
      " [4 5 6 7]]\n",
      "[[0. 0. 0. 0.]\n",
      " [0. 0. 0. 0.]]\n",
      "[[0.22504302 0.83799818 0.28320111 0.07299095 0.95277288]\n",
      " [0.12406373 0.08213084 0.30025    0.71062728 0.30054102]]\n",
      "=============================\n",
      "[0.  0.1 0.2 0.3]\n",
      "[[0.  0.2 0.4 0.6]\n",
      " [0.8 1.  1.2 1.4]]\n",
      "[ 0  5 12 21]\n",
      "[0.  1.  2.4 4.2]\n",
      "[[ 0  1  4  9]\n",
      " [ 0  5 12 21]]\n"
     ]
    },
    {
     "ename": "ValueError",
     "evalue": "operands could not be broadcast together with shapes (4,) (2,5) ",
     "output_type": "error",
     "traceback": [
      "\u001b[1;31m---------------------------------------------------------------------------\u001b[0m",
      "\u001b[1;31mValueError\u001b[0m                                Traceback (most recent call last)",
      "Cell \u001b[1;32mIn[21], line 35\u001b[0m\n\u001b[0;32m     31\u001b[0m \u001b[38;5;28mprint\u001b[39m(vector_a \u001b[38;5;241m*\u001b[39m matrix_c)\n\u001b[0;32m     32\u001b[0m \u001b[38;5;66;03m# elementwise multiplication on every row of the matrix \"c\"\u001b[39;00m\n\u001b[0;32m     33\u001b[0m \n\u001b[0;32m     34\u001b[0m \u001b[38;5;66;03m# since a and e don't have the same number of columns, this\u001b[39;00m\n\u001b[1;32m---> 35\u001b[0m \u001b[38;5;28mprint\u001b[39m(\u001b[43mvector_a\u001b[49m\u001b[43m \u001b[49m\u001b[38;5;241;43m*\u001b[39;49m\u001b[43m \u001b[49m\u001b[43mrandom_e\u001b[49m)\n\u001b[0;32m     36\u001b[0m \u001b[38;5;66;03m# throws a \"Value Error: operands could not be broadcast together with..\"\u001b[39;00m\n",
      "\u001b[1;31mValueError\u001b[0m: operands could not be broadcast together with shapes (4,) (2,5) "
     ]
    }
   ],
   "source": [
    "import numpy as np\n",
    "\n",
    "vector_a = np.array([0, 1, 2, 3])  # a vector\n",
    "vector_b = np.array([4, 5, 6, 7])  # another vector\n",
    "matrix_c = np.array([[0, 1, 2, 3],  # a matrix\n",
    "              [4, 5, 6, 7]])\n",
    "\n",
    "zeros_d = np.zeros((2, 4))  # (2x4 matrix of zeros)\n",
    "random_e = np.random.rand(2, 5)  # random 2x5\n",
    "# matrix with all numbers between 0 and 1\n",
    "\n",
    "print(vector_a)\n",
    "print(vector_b)\n",
    "print(matrix_c)\n",
    "print(zeros_d)\n",
    "print(random_e)\n",
    "\n",
    "print(\"=============================\")\n",
    "\n",
    "print(vector_a * 0.1)  # multiplies every number in vector \"a\" by 0.1\n",
    "\n",
    "print(matrix_c * 0.2)  # multiplies every number in matrix \"c\" by 0.2\n",
    "# multiplies elementwise between a and b (columns paired up)\n",
    "print(vector_a * vector_b)  \n",
    "# [0, 1, 2, 3] * [4, 5, 6, 7] = [0, 5, 12, 21]\n",
    "\n",
    "# elementwise multiplication then multiplied by 0.2\n",
    "print(vector_a * vector_b * 0.2)\n",
    "# [0, 1, 2, 3] * [4, 5, 6, 7] * 0.2 = [0.0, 1.0, 2.4, 4.2]\n",
    "\n",
    "# since c has the same number of columns as a, this performs\n",
    "# elementwise multiplication on every row of the matrix \"c\"\n",
    "print(vector_a * matrix_c)\n",
    "# [0, 1, 2, 3] * [[0, 1, 2, 3],\n",
    "#                 [4, 5, 6, 7]] = [[0, 1, 4, 9], [0, 5, 12, 21]]\n",
    "\n",
    "# since a and e don't have the same number of columns, this\n",
    "# throws a \"Value Error: operands could not be broadcast together with..\"\n",
    "print(vector_a * random_e)"
   ]
  },
  {
   "cell_type": "markdown",
   "metadata": {},
   "source": [
    "# (rows, cols)"
   ]
  },
  {
   "cell_type": "markdown",
   "metadata": {},
   "source": [
    "### .dot - dot product (скалярное произведение)"
   ]
  },
  {
   "cell_type": "markdown",
   "metadata": {},
   "source": [
    "Число столбцов в матрице слева должно совпадать с числом строк в матрице справа.\n",
    "`(a,b).dot(b,c) = (a,c)`"
   ]
  },
  {
   "cell_type": "code",
   "execution_count": 27,
   "metadata": {},
   "outputs": [
    {
     "name": "stdout",
     "output_type": "stream",
     "text": [
      "(1, 3)\n"
     ]
    }
   ],
   "source": [
    "a = np.zeros((1, 4))  # vector of length 4\n",
    "b = np.zeros((4, 3))  # matrix with 4 rows & 3 columns\n",
    "\n",
    "print(a.dot(b).shape)  # (1, 3)\n",
    "# print(b.dot(a).shape)  # ValueError Traceback (most recent call last)"
   ]
  },
  {
   "cell_type": "code",
   "execution_count": 28,
   "metadata": {},
   "outputs": [
    {
     "name": "stdout",
     "output_type": "stream",
     "text": [
      "(2, 3)\n",
      "(2, 3)\n",
      "(4, 6)\n"
     ]
    },
    {
     "ename": "ValueError",
     "evalue": "shapes (5,4) and (5,6) not aligned: 4 (dim 1) != 5 (dim 0)",
     "output_type": "error",
     "traceback": [
      "\u001b[1;31m---------------------------------------------------------------------------\u001b[0m",
      "\u001b[1;31mValueError\u001b[0m                                Traceback (most recent call last)",
      "Cell \u001b[1;32mIn[28], line 21\u001b[0m\n\u001b[0;32m     19\u001b[0m h \u001b[38;5;241m=\u001b[39m np\u001b[38;5;241m.\u001b[39mzeros((\u001b[38;5;241m5\u001b[39m, \u001b[38;5;241m4\u001b[39m))  \u001b[38;5;66;03m# matrix with 5 rows and 4 columns\u001b[39;00m\n\u001b[0;32m     20\u001b[0m i \u001b[38;5;241m=\u001b[39m np\u001b[38;5;241m.\u001b[39mzeros((\u001b[38;5;241m5\u001b[39m, \u001b[38;5;241m6\u001b[39m))  \u001b[38;5;66;03m# matrix with 5 rows & 6 columns\u001b[39;00m\n\u001b[1;32m---> 21\u001b[0m j \u001b[38;5;241m=\u001b[39m \u001b[43mh\u001b[49m\u001b[38;5;241;43m.\u001b[39;49m\u001b[43mdot\u001b[49m\u001b[43m(\u001b[49m\u001b[43mi\u001b[49m\u001b[43m)\u001b[49m\n\u001b[0;32m     22\u001b[0m \u001b[38;5;28mprint\u001b[39m(j\u001b[38;5;241m.\u001b[39mshape)  \u001b[38;5;66;03m# throws an error\u001b[39;00m\n",
      "\u001b[1;31mValueError\u001b[0m: shapes (5,4) and (5,6) not aligned: 4 (dim 1) != 5 (dim 0)"
     ]
    }
   ],
   "source": [
    "a = np.zeros((2, 4))  # matrix with 2 rows and 4 columns\n",
    "b = np.zeros((4, 3))  # matrix with 4 rows & 3 columns\n",
    "\n",
    "c = a.dot(b)\n",
    "print(c.shape)  # outputs (2,3)\n",
    "\n",
    "e = np.zeros((2, 1))  # matrix with 2 rows and 1 columns\n",
    "f = np.zeros((1, 3))  # matrix with 1 row & 3 columns\n",
    "\n",
    "g = e.dot(f)\n",
    "print(g.shape)  # outputs (2,3)\n",
    "\n",
    "h = np.zeros((5, 4)).T  # matrix with 4 rows and 5 columns\n",
    "i = np.zeros((5, 6))  # matrix with 6 rows & 5 columns\n",
    "\n",
    "j = h.dot(i)\n",
    "print(j.shape)  # outputs (4,6)\n",
    "\n",
    "h = np.zeros((5, 4))  # matrix with 5 rows and 4 columns\n",
    "i = np.zeros((5, 6))  # matrix with 5 rows & 6 columns\n",
    "j = h.dot(i)\n",
    "print(j.shape)  # ValueError j = h.dot(i)"
   ]
  },
  {
   "cell_type": "markdown",
   "metadata": {},
   "source": [
    "### Прогнозирующие возможности сети зависят отзначений весов."
   ]
  },
  {
   "cell_type": "markdown",
   "metadata": {},
   "source": [
    "Все сети которые тут созданы называются сетями прямого распространения - принимают входные данные и получают прогноз."
   ]
  }
 ],
 "metadata": {
  "kernelspec": {
   "display_name": "Python 3",
   "language": "python",
   "name": "python3"
  },
  "language_info": {
   "codemirror_mode": {
    "name": "ipython",
    "version": 3
   },
   "file_extension": ".py",
   "mimetype": "text/x-python",
   "name": "python",
   "nbconvert_exporter": "python",
   "pygments_lexer": "ipython3",
   "version": "3.11.4"
  }
 },
 "nbformat": 4,
 "nbformat_minor": 2
}
